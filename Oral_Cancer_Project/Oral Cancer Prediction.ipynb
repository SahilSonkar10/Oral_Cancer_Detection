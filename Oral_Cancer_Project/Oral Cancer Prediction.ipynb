{
 "cells": [
  {
   "cell_type": "markdown",
   "id": "9242aa9a",
   "metadata": {},
   "source": [
    "#  Convolutional Neural Network"
   ]
  },
  {
   "cell_type": "markdown",
   "id": "ecb9e8ee",
   "metadata": {},
   "source": [
    "### Importing the Libraries"
   ]
  },
  {
   "cell_type": "code",
   "execution_count": 9,
   "id": "f129f75a",
   "metadata": {},
   "outputs": [],
   "source": [
    "import os\n",
    "import numpy as np\n",
    "import tensorflow as tf\n",
    "from tensorflow.keras.preprocessing.image import ImageDataGenerator\n",
    "from tensorflow.keras.models import Sequential\n",
    "from tensorflow.keras.layers import Conv2D, MaxPooling2D, Flatten, Dense"
   ]
  },
  {
   "cell_type": "markdown",
   "id": "8a5e2e6f",
   "metadata": {},
   "source": [
    "### Define the image dimensions and batch size"
   ]
  },
  {
   "cell_type": "code",
   "execution_count": 10,
   "id": "a1ba834f",
   "metadata": {},
   "outputs": [],
   "source": [
    "img_width, img_height = 64, 64\n",
    "batch_size = 32"
   ]
  },
  {
   "cell_type": "markdown",
   "id": "29a0cf9f",
   "metadata": {},
   "source": [
    "# Data Preprocessing"
   ]
  },
  {
   "cell_type": "markdown",
   "id": "2f16eb7a",
   "metadata": {},
   "source": [
    "### Preprocessing the Training set"
   ]
  },
  {
   "cell_type": "code",
   "execution_count": 11,
   "id": "93c7c189",
   "metadata": {},
   "outputs": [
    {
     "name": "stdout",
     "output_type": "stream",
     "text": [
      "Found 1516 images belonging to 2 classes.\n"
     ]
    }
   ],
   "source": [
    "train_datagen = ImageDataGenerator(rescale = 1./255,\n",
    "                                   shear_range = 0.2,\n",
    "                                   zoom_range = 0.2,\n",
    "                                   horizontal_flip = True,\n",
    "                                   validation_split=0.2\n",
    "                                  )\n",
    "training_set = train_datagen.flow_from_directory(\n",
    "    'dataset/training_set',\n",
    "    target_size=(img_width, img_height),\n",
    "    batch_size=batch_size,\n",
    "    class_mode='binary'\n",
    ")"
   ]
  },
  {
   "cell_type": "markdown",
   "id": "24c9d700",
   "metadata": {},
   "source": [
    "### Preprocessing the Test set"
   ]
  },
  {
   "cell_type": "code",
   "execution_count": 12,
   "id": "67070704",
   "metadata": {},
   "outputs": [
    {
     "name": "stdout",
     "output_type": "stream",
     "text": [
      "Found 650 images belonging to 2 classes.\n"
     ]
    }
   ],
   "source": [
    "test_datagen = ImageDataGenerator(rescale = 1./255)\n",
    "test_set = test_datagen.flow_from_directory(\n",
    "    'dataset/test_set',\n",
    "    target_size=(img_width, img_height),\n",
    "    batch_size=batch_size,\n",
    "    class_mode='binary'\n",
    ")"
   ]
  },
  {
   "cell_type": "markdown",
   "id": "ba201ff7",
   "metadata": {},
   "source": [
    "# Building the CNN"
   ]
  },
  {
   "cell_type": "markdown",
   "id": "16ec4b60",
   "metadata": {},
   "source": [
    "### Create the CNN model"
   ]
  },
  {
   "cell_type": "code",
   "execution_count": 13,
   "id": "35b0edca",
   "metadata": {},
   "outputs": [
    {
     "name": "stderr",
     "output_type": "stream",
     "text": [
      "C:\\Users\\hp\\anaconda3\\Lib\\site-packages\\keras\\src\\layers\\convolutional\\base_conv.py:99: UserWarning: Do not pass an `input_shape`/`input_dim` argument to a layer. When using Sequential models, prefer using an `Input(shape)` object as the first layer in the model instead.\n",
      "  super().__init__(\n"
     ]
    }
   ],
   "source": [
    "model = Sequential()\n",
    "model.add(Conv2D(64, (3, 3), activation='relu', input_shape=(img_width, img_height, 3)))\n",
    "model.add(MaxPooling2D((2, 2)))\n",
    "model.add(Conv2D(64, (3, 3), activation='relu'))\n",
    "model.add(Flatten())\n",
    "model.add(Dense(128, activation='relu'))\n",
    "model.add(Dense(1, activation='sigmoid'))"
   ]
  },
  {
   "cell_type": "markdown",
   "id": "e504279d",
   "metadata": {},
   "source": [
    "# Training the CNN"
   ]
  },
  {
   "cell_type": "markdown",
   "id": "0f8e23be",
   "metadata": {},
   "source": [
    "### Compile the model"
   ]
  },
  {
   "cell_type": "code",
   "execution_count": 14,
   "id": "66fdd475",
   "metadata": {},
   "outputs": [],
   "source": [
    "model.compile(optimizer='adam', loss='binary_crossentropy', metrics=['accuracy'])"
   ]
  },
  {
   "cell_type": "markdown",
   "id": "acab9b29",
   "metadata": {},
   "source": [
    "### Training the CNN on the Training set and evaluating it on the Test set"
   ]
  },
  {
   "cell_type": "markdown",
   "id": "e6afe369",
   "metadata": {},
   "source": [
    "### Train the model"
   ]
  },
  {
   "cell_type": "code",
   "execution_count": 15,
   "id": "7fb03f63",
   "metadata": {},
   "outputs": [
    {
     "name": "stdout",
     "output_type": "stream",
     "text": [
      "Epoch 1/15\n",
      "\u001b[1m48/48\u001b[0m \u001b[32m━━━━━━━━━━━━━━━━━━━━\u001b[0m\u001b[37m\u001b[0m \u001b[1m91s\u001b[0m 2s/step - accuracy: 0.5998 - loss: 0.7470 - val_accuracy: 0.7062 - val_loss: 0.5864\n",
      "Epoch 2/15\n",
      "\u001b[1m48/48\u001b[0m \u001b[32m━━━━━━━━━━━━━━━━━━━━\u001b[0m\u001b[37m\u001b[0m \u001b[1m100s\u001b[0m 2s/step - accuracy: 0.7162 - loss: 0.5679 - val_accuracy: 0.7338 - val_loss: 0.5221\n",
      "Epoch 3/15\n",
      "\u001b[1m48/48\u001b[0m \u001b[32m━━━━━━━━━━━━━━━━━━━━\u001b[0m\u001b[37m\u001b[0m \u001b[1m171s\u001b[0m 3s/step - accuracy: 0.7547 - loss: 0.5262 - val_accuracy: 0.7385 - val_loss: 0.5318\n",
      "Epoch 4/15\n",
      "\u001b[1m48/48\u001b[0m \u001b[32m━━━━━━━━━━━━━━━━━━━━\u001b[0m\u001b[37m\u001b[0m \u001b[1m142s\u001b[0m 3s/step - accuracy: 0.7665 - loss: 0.4957 - val_accuracy: 0.7662 - val_loss: 0.4918\n",
      "Epoch 5/15\n",
      "\u001b[1m48/48\u001b[0m \u001b[32m━━━━━━━━━━━━━━━━━━━━\u001b[0m\u001b[37m\u001b[0m \u001b[1m149s\u001b[0m 3s/step - accuracy: 0.8048 - loss: 0.4512 - val_accuracy: 0.7569 - val_loss: 0.5097\n",
      "Epoch 6/15\n",
      "\u001b[1m48/48\u001b[0m \u001b[32m━━━━━━━━━━━━━━━━━━━━\u001b[0m\u001b[37m\u001b[0m \u001b[1m154s\u001b[0m 3s/step - accuracy: 0.7902 - loss: 0.4720 - val_accuracy: 0.7831 - val_loss: 0.5034\n",
      "Epoch 7/15\n",
      "\u001b[1m48/48\u001b[0m \u001b[32m━━━━━━━━━━━━━━━━━━━━\u001b[0m\u001b[37m\u001b[0m \u001b[1m164s\u001b[0m 3s/step - accuracy: 0.8047 - loss: 0.4375 - val_accuracy: 0.7877 - val_loss: 0.5263\n",
      "Epoch 8/15\n",
      "\u001b[1m48/48\u001b[0m \u001b[32m━━━━━━━━━━━━━━━━━━━━\u001b[0m\u001b[37m\u001b[0m \u001b[1m147s\u001b[0m 3s/step - accuracy: 0.8001 - loss: 0.4351 - val_accuracy: 0.7785 - val_loss: 0.4796\n",
      "Epoch 9/15\n",
      "\u001b[1m48/48\u001b[0m \u001b[32m━━━━━━━━━━━━━━━━━━━━\u001b[0m\u001b[37m\u001b[0m \u001b[1m152s\u001b[0m 3s/step - accuracy: 0.8163 - loss: 0.4349 - val_accuracy: 0.7923 - val_loss: 0.5011\n",
      "Epoch 10/15\n",
      "\u001b[1m48/48\u001b[0m \u001b[32m━━━━━━━━━━━━━━━━━━━━\u001b[0m\u001b[37m\u001b[0m \u001b[1m154s\u001b[0m 3s/step - accuracy: 0.8187 - loss: 0.3872 - val_accuracy: 0.7831 - val_loss: 0.4891\n",
      "Epoch 11/15\n",
      "\u001b[1m48/48\u001b[0m \u001b[32m━━━━━━━━━━━━━━━━━━━━\u001b[0m\u001b[37m\u001b[0m \u001b[1m149s\u001b[0m 3s/step - accuracy: 0.8365 - loss: 0.3830 - val_accuracy: 0.8046 - val_loss: 0.4516\n",
      "Epoch 12/15\n",
      "\u001b[1m48/48\u001b[0m \u001b[32m━━━━━━━━━━━━━━━━━━━━\u001b[0m\u001b[37m\u001b[0m \u001b[1m156s\u001b[0m 3s/step - accuracy: 0.8358 - loss: 0.3922 - val_accuracy: 0.7123 - val_loss: 0.5443\n",
      "Epoch 13/15\n",
      "\u001b[1m48/48\u001b[0m \u001b[32m━━━━━━━━━━━━━━━━━━━━\u001b[0m\u001b[37m\u001b[0m \u001b[1m145s\u001b[0m 3s/step - accuracy: 0.8374 - loss: 0.3892 - val_accuracy: 0.8200 - val_loss: 0.4351\n",
      "Epoch 14/15\n",
      "\u001b[1m48/48\u001b[0m \u001b[32m━━━━━━━━━━━━━━━━━━━━\u001b[0m\u001b[37m\u001b[0m \u001b[1m149s\u001b[0m 3s/step - accuracy: 0.8238 - loss: 0.3941 - val_accuracy: 0.8200 - val_loss: 0.4976\n",
      "Epoch 15/15\n",
      "\u001b[1m48/48\u001b[0m \u001b[32m━━━━━━━━━━━━━━━━━━━━\u001b[0m\u001b[37m\u001b[0m \u001b[1m157s\u001b[0m 3s/step - accuracy: 0.8247 - loss: 0.4214 - val_accuracy: 0.7954 - val_loss: 0.5249\n"
     ]
    },
    {
     "data": {
      "text/plain": [
       "<keras.src.callbacks.history.History at 0x20dcc359190>"
      ]
     },
     "execution_count": 15,
     "metadata": {},
     "output_type": "execute_result"
    }
   ],
   "source": [
    " model.fit(x = training_set, validation_data = test_set, epochs = 15)\n"
   ]
  },
  {
   "cell_type": "code",
   "execution_count": 17,
   "id": "2d2edeab",
   "metadata": {},
   "outputs": [],
   "source": [
    "model.save(r'save_model\\new_model.keras')"
   ]
  },
  {
   "cell_type": "markdown",
   "id": "8e1c2e2f",
   "metadata": {},
   "source": [
    "### Evaluate the model"
   ]
  },
  {
   "cell_type": "code",
   "execution_count": 18,
   "id": "b7b79556",
   "metadata": {},
   "outputs": [
    {
     "name": "stdout",
     "output_type": "stream",
     "text": [
      "\u001b[1m21/21\u001b[0m \u001b[32m━━━━━━━━━━━━━━━━━━━━\u001b[0m\u001b[37m\u001b[0m \u001b[1m37s\u001b[0m 2s/step - accuracy: 0.7804 - loss: 0.5329\n",
      "Test Loss: 0.5059422254562378\n",
      "Test Accuracy 0.7953845858573914\n"
     ]
    }
   ],
   "source": [
    "loss, accuracy = model.evaluate(test_set)\n",
    "print(\"Test Loss:\", loss)\n",
    "print(\"Test Accuracy\", accuracy)"
   ]
  },
  {
   "cell_type": "markdown",
   "id": "a8ed4beb",
   "metadata": {},
   "source": [
    "### Load the Trained model"
   ]
  },
  {
   "cell_type": "code",
   "execution_count": 21,
   "id": "f8756018",
   "metadata": {},
   "outputs": [],
   "source": [
    "model = tf.keras.models.load_model(r'save_model\\new_model.keras')"
   ]
  },
  {
   "cell_type": "markdown",
   "id": "2e1dc023",
   "metadata": {},
   "source": [
    "### Set the image path for prediction"
   ]
  },
  {
   "cell_type": "code",
   "execution_count": 22,
   "id": "0656e945",
   "metadata": {},
   "outputs": [
    {
     "name": "stdout",
     "output_type": "stream",
     "text": [
      "image_path dataset/single_prediction/malignant.jpg\n"
     ]
    }
   ],
   "source": [
    "image_path = \"dataset/single_prediction/malignant.jpg\"\n",
    "print(\"image_path\", image_path)"
   ]
  },
  {
   "cell_type": "markdown",
   "id": "7dbba3f3",
   "metadata": {},
   "source": [
    "### Load and preprocess the image"
   ]
  },
  {
   "cell_type": "code",
   "execution_count": 23,
   "id": "13be381c",
   "metadata": {},
   "outputs": [],
   "source": [
    "from PIL import Image\n",
    "\n",
    "\n",
    "def preprocess_image(image_path):\n",
    "    print(image_path)\n",
    "    # open the image using IPL\n",
    "    image = Image.open(image_path)\n",
    "    print(\"image\", image)\n",
    "    # Resize the image to the input dimensions expected by the model\n",
    "    image = image.resize((img_width, img_height), resample=Image.BILINEAR)\n",
    "    # Convert the array to the Numpy array\n",
    "    image = np.array(image)\n",
    "    # Normalize the image\n",
    "    image = image / 255.0\n",
    "    # Add an extra dimansion to represent the batch size required by the model\n",
    "    image = np.expand_dims(image, axis=0)\n",
    "    return image\n"
   ]
  },
  {
   "cell_type": "markdown",
   "id": "187fecb5",
   "metadata": {},
   "source": [
    "### Making a single prediction"
   ]
  },
  {
   "cell_type": "code",
   "execution_count": 28,
   "id": "96bc4b2f",
   "metadata": {},
   "outputs": [
    {
     "name": "stdout",
     "output_type": "stream",
     "text": [
      "dataset/single_prediction/malignant.jpg\n",
      "image <PIL.JpegImagePlugin.JpegImageFile image mode=RGB size=2854x1348 at 0x20DF8CD6510>\n",
      "\u001b[1m1/1\u001b[0m \u001b[32m━━━━━━━━━━━━━━━━━━━━\u001b[0m\u001b[37m\u001b[0m \u001b[1m0s\u001b[0m 58ms/step\n",
      "prediction= [[0.99404365]]\n",
      "Labels = [1.]\n",
      "Malignant\n"
     ]
    }
   ],
   "source": [
    "# usage\n",
    "preprocessed_image = preprocess_image(image_path)\n",
    "# print(\"preprocessed_image\", preprocessed_image)\n",
    "# make prediction on the preprocesses image\n",
    "prediction = model.predict(preprocessed_image)\n",
    "print(\"prediction=\", prediction)\n",
    "\n",
    "# convert prediction to labels (0 for Benign, 1 for Malignant)\n",
    "labels = np.round(prediction).flatten()\n",
    "\n",
    "class_indices = training_set.class_indices\n",
    "\n",
    "# Determine which class label corresponds to benign and malignant\n",
    "if class_indices['Benign'] == 0:\n",
    "    benign_label = 0\n",
    "    malignant_label = 1\n",
    "else:\n",
    "    benign_label = 1\n",
    "    malignant_label = 0\n",
    "\n",
    "print(\"Labels =\", labels)\n",
    "if labels == 0:\n",
    "    print(\"Benign\")\n",
    "else:\n",
    "    print(\"Malignant\")"
   ]
  },
  {
   "cell_type": "code",
   "execution_count": null,
   "id": "1ef3da77",
   "metadata": {},
   "outputs": [],
   "source": []
  },
  {
   "cell_type": "code",
   "execution_count": null,
   "id": "d4e48b57",
   "metadata": {},
   "outputs": [],
   "source": []
  },
  {
   "cell_type": "code",
   "execution_count": null,
   "id": "ddcf2190",
   "metadata": {},
   "outputs": [],
   "source": []
  }
 ],
 "metadata": {
  "kernelspec": {
   "display_name": "Python 3 (ipykernel)",
   "language": "python",
   "name": "python3"
  },
  "language_info": {
   "codemirror_mode": {
    "name": "ipython",
    "version": 3
   },
   "file_extension": ".py",
   "mimetype": "text/x-python",
   "name": "python",
   "nbconvert_exporter": "python",
   "pygments_lexer": "ipython3",
   "version": "3.11.8"
  }
 },
 "nbformat": 4,
 "nbformat_minor": 5
}
